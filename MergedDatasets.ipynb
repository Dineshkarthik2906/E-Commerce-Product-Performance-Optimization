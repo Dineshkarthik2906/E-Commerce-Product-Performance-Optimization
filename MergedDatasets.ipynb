{
  "nbformat": 4,
  "nbformat_minor": 0,
  "metadata": {
    "colab": {
      "provenance": []
    },
    "kernelspec": {
      "name": "python3",
      "display_name": "Python 3"
    },
    "language_info": {
      "name": "python"
    }
  },
  "cells": [
    {
      "cell_type": "code",
      "execution_count": 9,
      "metadata": {
        "id": "AJnke_zXTsJj"
      },
      "outputs": [],
      "source": [
        "import pandas as pd\n"
      ]
    },
    {
      "cell_type": "code",
      "source": [
        "orders = pd.read_csv(\"/content/olist_orders_dataset.csv\")\n",
        "items = pd.read_csv(\"/content/olist_order_items_dataset.csv\")\n",
        "customers = pd.read_csv(\"/content/olist_customers_dataset.csv\")\n",
        "products = pd.read_csv(\"/content/olist_products_dataset.csv\")\n",
        "category_map = pd.read_csv(\"/content/product_category_name_translation.csv\")\n"
      ],
      "metadata": {
        "id": "QQjoJKi8UxVv"
      },
      "execution_count": 10,
      "outputs": []
    },
    {
      "cell_type": "code",
      "source": [
        "products = products.merge(\n",
        "    category_map,\n",
        "    how='left',\n",
        "    left_on='product_category_name',\n",
        "    right_on = 'product_category_name'\n",
        ")\n",
        "\n",
        "products.rename(columns={'product_category_name_english' : 'category'}, inplace=True)"
      ],
      "metadata": {
        "id": "wLPJwIsPViKQ"
      },
      "execution_count": 12,
      "outputs": []
    },
    {
      "cell_type": "code",
      "source": [
        "df = orders.merge(items,on='order_id',how='inner')\n",
        "print(\"After merging order and items\",df.shape)"
      ],
      "metadata": {
        "colab": {
          "base_uri": "https://localhost:8080/"
        },
        "id": "evDuKqByWmfo",
        "outputId": "a6ab7ac8-e14c-451a-fe9c-90992ccb37ab"
      },
      "execution_count": 13,
      "outputs": [
        {
          "output_type": "stream",
          "name": "stdout",
          "text": [
            "After merging order and items (112650, 14)\n"
          ]
        }
      ]
    },
    {
      "cell_type": "code",
      "source": [
        "df = df.merge(customers, on= 'customer_id',how='left')\n",
        "print(\"After merging customers file\", df.shape)"
      ],
      "metadata": {
        "colab": {
          "base_uri": "https://localhost:8080/"
        },
        "id": "FWMhp0-vXeMg",
        "outputId": "598c3f8a-c0e3-4e1f-aae7-3ccdad2f42b2"
      },
      "execution_count": 16,
      "outputs": [
        {
          "output_type": "stream",
          "name": "stdout",
          "text": [
            "After merging customers file (112650, 22)\n"
          ]
        }
      ]
    },
    {
      "cell_type": "code",
      "source": [
        "df = df.merge(products[['product_id','category']],on='product_id',how='left')\n",
        "print(\"After merging products file\", df.shape)"
      ],
      "metadata": {
        "colab": {
          "base_uri": "https://localhost:8080/"
        },
        "id": "6hCc3WFSYKN2",
        "outputId": "50ddeedd-afe6-4658-f6d1-ed64a52e9db8"
      },
      "execution_count": 19,
      "outputs": [
        {
          "output_type": "stream",
          "name": "stdout",
          "text": [
            "After merging products file (112650, 26)\n"
          ]
        }
      ]
    },
    {
      "cell_type": "code",
      "source": [
        "df.to_csv('merged_dataset.csv',index=False)"
      ],
      "metadata": {
        "id": "6U1Bqy0PYagG"
      },
      "execution_count": 21,
      "outputs": []
    }
  ]
}